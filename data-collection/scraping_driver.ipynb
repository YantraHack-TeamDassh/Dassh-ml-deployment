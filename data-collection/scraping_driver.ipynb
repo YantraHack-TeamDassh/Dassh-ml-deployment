{
  "cells": [
    {
      "cell_type": "code",
      "execution_count": 12,
      "metadata": {
        "id": "J4l8qyiLixHD"
      },
      "outputs": [],
      "source": [
        "import ecom_prod_scraper"
      ]
    },
    {
      "cell_type": "markdown",
      "metadata": {
        "id": "OcSPjvUZixHF"
      },
      "source": [
        "## **Creating a Product Based Dataset (Amazon + Flipkart)**\n"
      ]
    },
    {
      "cell_type": "code",
      "execution_count": 9,
      "metadata": {
        "id": "gznZw8okixHG"
      },
      "outputs": [],
      "source": [
        "#Device specific headers at https://httpbin.org/get\n",
        "headers = {\"User-Agent\": \"Mozilla/5.0 (Macintosh; Intel Mac OS X 10_15_7) AppleWebKit/537.36 (KHTML, like Gecko) Chrome/113.0.0.0 Safari/537.36\"}\n",
        "\n",
        "# exec_code(product, brand, time_limit, device_specific_headers)\n",
        "df, brand_present_df = ecom_prod_scraper.exec_code(\"Hardware Products\",\"\",50,headers)"
      ]
    },
    {
      "cell_type": "code",
      "execution_count": 10,
      "metadata": {
        "colab": {
          "base_uri": "https://localhost:8080/",
          "height": 478
        },
        "id": "aM2KrP6_ixHH",
        "outputId": "1473bce6-8885-4760-8fcf-02d1e74264bd"
      },
      "outputs": [
        {
          "output_type": "execute_result",
          "data": {
            "text/plain": [
              "       querry_searched ecommerce_website  \\\n",
              "318  Hardware Products          Flipkart   \n",
              "775  Hardware Products          Flipkart   \n",
              "947  Hardware Products          Flipkart   \n",
              "878  Hardware Products          Flipkart   \n",
              "266  Hardware Products          Flipkart   \n",
              "\n",
              "                                          product_name  product_price  \\\n",
              "318              ANGLOPANGLO Women Green Messenger Bag         1151.0   \n",
              "775                   UNIFY Stainless Steel Wall Shelf         1349.0   \n",
              "947  Hewa Apollo 6 inch (150mm) pure copper Ventila...          899.0   \n",
              "878  Feelitson Stainless Steel, Brass Tyre Valve Ca...          449.0   \n",
              "266  iSTAR Heavy Double Soap Dish | Soap Holder Sta...          494.0   \n",
              "\n",
              "     product_rating  rating_count  \\\n",
              "318             4.1          31.0   \n",
              "775             4.1          18.0   \n",
              "947             3.9          69.0   \n",
              "878             0.0           0.0   \n",
              "266             4.5          61.0   \n",
              "\n",
              "                                      poduct_image_url  \\\n",
              "318  https://rukminim1.flixcart.com/image/612/612/k...   \n",
              "775  https://rukminim1.flixcart.com/image/612/612/x...   \n",
              "947  https://rukminim1.flixcart.com/image/612/612/x...   \n",
              "878  https://rukminim1.flixcart.com/image/612/612/k...   \n",
              "266  https://rukminim1.flixcart.com/image/612/612/k...   \n",
              "\n",
              "                                           product_url reviews_count  \n",
              "318  https://www.flipkart.com/anglopanglo-women-gre...          None  \n",
              "775  https://www.flipkart.com/unify-stainless-steel...          None  \n",
              "947  https://www.flipkart.com/hewa-apollo-6-inch-15...          None  \n",
              "878  https://www.flipkart.com/feelitson-stainless-s...          None  \n",
              "266  https://www.flipkart.com/istar-heavy-double-so...          None  "
            ],
            "text/html": [
              "\n",
              "  <div id=\"df-b48a75db-c405-4770-82ff-4ada1412e26f\">\n",
              "    <div class=\"colab-df-container\">\n",
              "      <div>\n",
              "<style scoped>\n",
              "    .dataframe tbody tr th:only-of-type {\n",
              "        vertical-align: middle;\n",
              "    }\n",
              "\n",
              "    .dataframe tbody tr th {\n",
              "        vertical-align: top;\n",
              "    }\n",
              "\n",
              "    .dataframe thead th {\n",
              "        text-align: right;\n",
              "    }\n",
              "</style>\n",
              "<table border=\"1\" class=\"dataframe\">\n",
              "  <thead>\n",
              "    <tr style=\"text-align: right;\">\n",
              "      <th></th>\n",
              "      <th>querry_searched</th>\n",
              "      <th>ecommerce_website</th>\n",
              "      <th>product_name</th>\n",
              "      <th>product_price</th>\n",
              "      <th>product_rating</th>\n",
              "      <th>rating_count</th>\n",
              "      <th>poduct_image_url</th>\n",
              "      <th>product_url</th>\n",
              "      <th>reviews_count</th>\n",
              "    </tr>\n",
              "  </thead>\n",
              "  <tbody>\n",
              "    <tr>\n",
              "      <th>318</th>\n",
              "      <td>Hardware Products</td>\n",
              "      <td>Flipkart</td>\n",
              "      <td>ANGLOPANGLO Women Green Messenger Bag</td>\n",
              "      <td>1151.0</td>\n",
              "      <td>4.1</td>\n",
              "      <td>31.0</td>\n",
              "      <td>https://rukminim1.flixcart.com/image/612/612/k...</td>\n",
              "      <td>https://www.flipkart.com/anglopanglo-women-gre...</td>\n",
              "      <td>None</td>\n",
              "    </tr>\n",
              "    <tr>\n",
              "      <th>775</th>\n",
              "      <td>Hardware Products</td>\n",
              "      <td>Flipkart</td>\n",
              "      <td>UNIFY Stainless Steel Wall Shelf</td>\n",
              "      <td>1349.0</td>\n",
              "      <td>4.1</td>\n",
              "      <td>18.0</td>\n",
              "      <td>https://rukminim1.flixcart.com/image/612/612/x...</td>\n",
              "      <td>https://www.flipkart.com/unify-stainless-steel...</td>\n",
              "      <td>None</td>\n",
              "    </tr>\n",
              "    <tr>\n",
              "      <th>947</th>\n",
              "      <td>Hardware Products</td>\n",
              "      <td>Flipkart</td>\n",
              "      <td>Hewa Apollo 6 inch (150mm) pure copper Ventila...</td>\n",
              "      <td>899.0</td>\n",
              "      <td>3.9</td>\n",
              "      <td>69.0</td>\n",
              "      <td>https://rukminim1.flixcart.com/image/612/612/x...</td>\n",
              "      <td>https://www.flipkart.com/hewa-apollo-6-inch-15...</td>\n",
              "      <td>None</td>\n",
              "    </tr>\n",
              "    <tr>\n",
              "      <th>878</th>\n",
              "      <td>Hardware Products</td>\n",
              "      <td>Flipkart</td>\n",
              "      <td>Feelitson Stainless Steel, Brass Tyre Valve Ca...</td>\n",
              "      <td>449.0</td>\n",
              "      <td>0.0</td>\n",
              "      <td>0.0</td>\n",
              "      <td>https://rukminim1.flixcart.com/image/612/612/k...</td>\n",
              "      <td>https://www.flipkart.com/feelitson-stainless-s...</td>\n",
              "      <td>None</td>\n",
              "    </tr>\n",
              "    <tr>\n",
              "      <th>266</th>\n",
              "      <td>Hardware Products</td>\n",
              "      <td>Flipkart</td>\n",
              "      <td>iSTAR Heavy Double Soap Dish | Soap Holder Sta...</td>\n",
              "      <td>494.0</td>\n",
              "      <td>4.5</td>\n",
              "      <td>61.0</td>\n",
              "      <td>https://rukminim1.flixcart.com/image/612/612/k...</td>\n",
              "      <td>https://www.flipkart.com/istar-heavy-double-so...</td>\n",
              "      <td>None</td>\n",
              "    </tr>\n",
              "  </tbody>\n",
              "</table>\n",
              "</div>\n",
              "      <button class=\"colab-df-convert\" onclick=\"convertToInteractive('df-b48a75db-c405-4770-82ff-4ada1412e26f')\"\n",
              "              title=\"Convert this dataframe to an interactive table.\"\n",
              "              style=\"display:none;\">\n",
              "        \n",
              "  <svg xmlns=\"http://www.w3.org/2000/svg\" height=\"24px\"viewBox=\"0 0 24 24\"\n",
              "       width=\"24px\">\n",
              "    <path d=\"M0 0h24v24H0V0z\" fill=\"none\"/>\n",
              "    <path d=\"M18.56 5.44l.94 2.06.94-2.06 2.06-.94-2.06-.94-.94-2.06-.94 2.06-2.06.94zm-11 1L8.5 8.5l.94-2.06 2.06-.94-2.06-.94L8.5 2.5l-.94 2.06-2.06.94zm10 10l.94 2.06.94-2.06 2.06-.94-2.06-.94-.94-2.06-.94 2.06-2.06.94z\"/><path d=\"M17.41 7.96l-1.37-1.37c-.4-.4-.92-.59-1.43-.59-.52 0-1.04.2-1.43.59L10.3 9.45l-7.72 7.72c-.78.78-.78 2.05 0 2.83L4 21.41c.39.39.9.59 1.41.59.51 0 1.02-.2 1.41-.59l7.78-7.78 2.81-2.81c.8-.78.8-2.07 0-2.86zM5.41 20L4 18.59l7.72-7.72 1.47 1.35L5.41 20z\"/>\n",
              "  </svg>\n",
              "      </button>\n",
              "      \n",
              "  <style>\n",
              "    .colab-df-container {\n",
              "      display:flex;\n",
              "      flex-wrap:wrap;\n",
              "      gap: 12px;\n",
              "    }\n",
              "\n",
              "    .colab-df-convert {\n",
              "      background-color: #E8F0FE;\n",
              "      border: none;\n",
              "      border-radius: 50%;\n",
              "      cursor: pointer;\n",
              "      display: none;\n",
              "      fill: #1967D2;\n",
              "      height: 32px;\n",
              "      padding: 0 0 0 0;\n",
              "      width: 32px;\n",
              "    }\n",
              "\n",
              "    .colab-df-convert:hover {\n",
              "      background-color: #E2EBFA;\n",
              "      box-shadow: 0px 1px 2px rgba(60, 64, 67, 0.3), 0px 1px 3px 1px rgba(60, 64, 67, 0.15);\n",
              "      fill: #174EA6;\n",
              "    }\n",
              "\n",
              "    [theme=dark] .colab-df-convert {\n",
              "      background-color: #3B4455;\n",
              "      fill: #D2E3FC;\n",
              "    }\n",
              "\n",
              "    [theme=dark] .colab-df-convert:hover {\n",
              "      background-color: #434B5C;\n",
              "      box-shadow: 0px 1px 3px 1px rgba(0, 0, 0, 0.15);\n",
              "      filter: drop-shadow(0px 1px 2px rgba(0, 0, 0, 0.3));\n",
              "      fill: #FFFFFF;\n",
              "    }\n",
              "  </style>\n",
              "\n",
              "      <script>\n",
              "        const buttonEl =\n",
              "          document.querySelector('#df-b48a75db-c405-4770-82ff-4ada1412e26f button.colab-df-convert');\n",
              "        buttonEl.style.display =\n",
              "          google.colab.kernel.accessAllowed ? 'block' : 'none';\n",
              "\n",
              "        async function convertToInteractive(key) {\n",
              "          const element = document.querySelector('#df-b48a75db-c405-4770-82ff-4ada1412e26f');\n",
              "          const dataTable =\n",
              "            await google.colab.kernel.invokeFunction('convertToInteractive',\n",
              "                                                     [key], {});\n",
              "          if (!dataTable) return;\n",
              "\n",
              "          const docLinkHtml = 'Like what you see? Visit the ' +\n",
              "            '<a target=\"_blank\" href=https://colab.research.google.com/notebooks/data_table.ipynb>data table notebook</a>'\n",
              "            + ' to learn more about interactive tables.';\n",
              "          element.innerHTML = '';\n",
              "          dataTable['output_type'] = 'display_data';\n",
              "          await google.colab.output.renderOutput(dataTable, element);\n",
              "          const docLink = document.createElement('div');\n",
              "          docLink.innerHTML = docLinkHtml;\n",
              "          element.appendChild(docLink);\n",
              "        }\n",
              "      </script>\n",
              "    </div>\n",
              "  </div>\n",
              "  "
            ]
          },
          "metadata": {},
          "execution_count": 10
        }
      ],
      "source": [
        "df.sample(5)"
      ]
    },
    {
      "cell_type": "code",
      "execution_count": 13,
      "metadata": {
        "colab": {
          "base_uri": "https://localhost:8080/"
        },
        "id": "29dQ2IeGixHH",
        "outputId": "067ea6a0-0a35-40a6-cef7-e1da9d5dbc66"
      },
      "outputs": [
        {
          "output_type": "stream",
          "name": "stdout",
          "text": [
            "Total number of products scrapped in 50 seconds are  1000\n"
          ]
        }
      ],
      "source": [
        "print(\"Total number of products scrapped in 50 seconds are \", len(df))\n",
        "df.to_csv(\"hardware_products.csv\",index=False, header=True)"
      ]
    }
  ],
  "metadata": {
    "kernelspec": {
      "display_name": "Python 3",
      "language": "python",
      "name": "python3"
    },
    "language_info": {
      "codemirror_mode": {
        "name": "ipython",
        "version": 3
      },
      "file_extension": ".py",
      "mimetype": "text/x-python",
      "name": "python",
      "nbconvert_exporter": "python",
      "pygments_lexer": "ipython3",
      "version": "3.10.1"
    },
    "orig_nbformat": 4,
    "colab": {
      "provenance": []
    }
  },
  "nbformat": 4,
  "nbformat_minor": 0
}